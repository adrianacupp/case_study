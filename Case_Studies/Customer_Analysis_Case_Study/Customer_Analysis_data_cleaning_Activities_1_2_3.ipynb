{
 "cells": [
  {
   "cell_type": "code",
   "execution_count": 1,
   "id": "8f7f7165",
   "metadata": {},
   "outputs": [],
   "source": [
    "import numpy as np\n",
    "import pandas as pd\n",
    "import matplotlib.pyplot as plt\n",
    "%matplotlib inline\n",
    "import seaborn as sns\n",
    "import statsmodels.api as sm\n",
    "from scipy.stats import boxcox\n",
    "\n",
    "pd.options.display.max_rows = 50"
   ]
  },
  {
   "cell_type": "markdown",
   "id": "0c7038c2",
   "metadata": {},
   "source": [
    "# Activites List\n",
    "\n",
    "### Activity 1\n",
    "\n",
    "- Aggregate data into one Data Frame using Pandas.\n",
    "- Standardizing header names\n",
    "- Deleting and rearranging columns – delete the column customer as it is only a unique identifier for each row of data\n",
    "- Working with data types – Check the data types of all the columns and fix the incorrect ones (for ex. customer lifetime value and number of complaints )\n",
    "- Filtering data and Correcting typos – Filter the data in state and gender column to standardize the texts in those columns\n",
    "- Removing duplicates\n",
    "- Replacing null values – Replace missing values with means of the column (for numerical columns)"
   ]
  },
  {
   "cell_type": "code",
   "execution_count": 2,
   "id": "1abeba1c",
   "metadata": {},
   "outputs": [],
   "source": [
    "file1 = pd.read_csv('data/file1.csv')"
   ]
  },
  {
   "cell_type": "code",
   "execution_count": 3,
   "id": "c0e3499d",
   "metadata": {},
   "outputs": [
    {
     "name": "stdout",
     "output_type": "stream",
     "text": [
      "<class 'pandas.core.frame.DataFrame'>\n",
      "RangeIndex: 4008 entries, 0 to 4007\n",
      "Data columns (total 11 columns):\n",
      " #   Column                     Non-Null Count  Dtype  \n",
      "---  ------                     --------------  -----  \n",
      " 0   Customer                   1071 non-null   object \n",
      " 1   ST                         1071 non-null   object \n",
      " 2   GENDER                     954 non-null    object \n",
      " 3   Education                  1071 non-null   object \n",
      " 4   Customer Lifetime Value    1068 non-null   object \n",
      " 5   Income                     1071 non-null   float64\n",
      " 6   Monthly Premium Auto       1071 non-null   float64\n",
      " 7   Number of Open Complaints  1071 non-null   object \n",
      " 8   Policy Type                1071 non-null   object \n",
      " 9   Vehicle Class              1071 non-null   object \n",
      " 10  Total Claim Amount         1071 non-null   float64\n",
      "dtypes: float64(3), object(8)\n",
      "memory usage: 344.6+ KB\n"
     ]
    }
   ],
   "source": [
    "file1.info()"
   ]
  },
  {
   "cell_type": "code",
   "execution_count": 4,
   "id": "83e42006",
   "metadata": {},
   "outputs": [],
   "source": [
    "file2 = pd.read_csv('data/file2.csv')"
   ]
  },
  {
   "cell_type": "code",
   "execution_count": 5,
   "id": "2a91550d",
   "metadata": {},
   "outputs": [
    {
     "name": "stdout",
     "output_type": "stream",
     "text": [
      "<class 'pandas.core.frame.DataFrame'>\n",
      "RangeIndex: 996 entries, 0 to 995\n",
      "Data columns (total 11 columns):\n",
      " #   Column                     Non-Null Count  Dtype  \n",
      "---  ------                     --------------  -----  \n",
      " 0   Customer                   996 non-null    object \n",
      " 1   ST                         996 non-null    object \n",
      " 2   GENDER                     991 non-null    object \n",
      " 3   Education                  996 non-null    object \n",
      " 4   Customer Lifetime Value    992 non-null    object \n",
      " 5   Income                     996 non-null    int64  \n",
      " 6   Monthly Premium Auto       996 non-null    int64  \n",
      " 7   Number of Open Complaints  996 non-null    object \n",
      " 8   Total Claim Amount         996 non-null    float64\n",
      " 9   Policy Type                996 non-null    object \n",
      " 10  Vehicle Class              996 non-null    object \n",
      "dtypes: float64(1), int64(2), object(8)\n",
      "memory usage: 85.7+ KB\n"
     ]
    }
   ],
   "source": [
    "file2.info()"
   ]
  },
  {
   "cell_type": "code",
   "execution_count": 6,
   "id": "5e603671",
   "metadata": {},
   "outputs": [],
   "source": [
    "file3 = pd.read_csv('data/file3.csv')"
   ]
  },
  {
   "cell_type": "code",
   "execution_count": 7,
   "id": "6024b37e",
   "metadata": {},
   "outputs": [
    {
     "name": "stdout",
     "output_type": "stream",
     "text": [
      "<class 'pandas.core.frame.DataFrame'>\n",
      "RangeIndex: 7070 entries, 0 to 7069\n",
      "Data columns (total 11 columns):\n",
      " #   Column                     Non-Null Count  Dtype  \n",
      "---  ------                     --------------  -----  \n",
      " 0   Customer                   7070 non-null   object \n",
      " 1   State                      7070 non-null   object \n",
      " 2   Customer Lifetime Value    7070 non-null   float64\n",
      " 3   Education                  7070 non-null   object \n",
      " 4   Gender                     7070 non-null   object \n",
      " 5   Income                     7070 non-null   int64  \n",
      " 6   Monthly Premium Auto       7070 non-null   int64  \n",
      " 7   Number of Open Complaints  7070 non-null   int64  \n",
      " 8   Policy Type                7070 non-null   object \n",
      " 9   Total Claim Amount         7070 non-null   float64\n",
      " 10  Vehicle Class              7070 non-null   object \n",
      "dtypes: float64(2), int64(3), object(6)\n",
      "memory usage: 607.7+ KB\n"
     ]
    }
   ],
   "source": [
    "file3.info()"
   ]
  },
  {
   "cell_type": "code",
   "execution_count": 8,
   "id": "696e5bbe",
   "metadata": {},
   "outputs": [],
   "source": [
    "# call the function for file3\n",
    "def rename_columns(file3):\n",
    "    file3.rename(columns={'State': 'ST', 'Gender': 'GENDER'}, inplace=True )\n",
    "    return file3"
   ]
  },
  {
   "cell_type": "code",
   "execution_count": 9,
   "id": "47f80fa4",
   "metadata": {},
   "outputs": [],
   "source": [
    "rename_file3 = rename_columns(file3)"
   ]
  },
  {
   "cell_type": "code",
   "execution_count": 10,
   "id": "cc4a25a0",
   "metadata": {},
   "outputs": [
    {
     "name": "stdout",
     "output_type": "stream",
     "text": [
      "<class 'pandas.core.frame.DataFrame'>\n",
      "RangeIndex: 4008 entries, 0 to 4007\n",
      "Data columns (total 11 columns):\n",
      " #   Column                     Non-Null Count  Dtype  \n",
      "---  ------                     --------------  -----  \n",
      " 0   Customer                   1071 non-null   object \n",
      " 1   ST                         1071 non-null   object \n",
      " 2   GENDER                     954 non-null    object \n",
      " 3   Education                  1071 non-null   object \n",
      " 4   Customer Lifetime Value    1068 non-null   object \n",
      " 5   Income                     1071 non-null   float64\n",
      " 6   Monthly Premium Auto       1071 non-null   float64\n",
      " 7   Number of Open Complaints  1071 non-null   object \n",
      " 8   Policy Type                1071 non-null   object \n",
      " 9   Vehicle Class              1071 non-null   object \n",
      " 10  Total Claim Amount         1071 non-null   float64\n",
      "dtypes: float64(3), object(8)\n",
      "memory usage: 344.6+ KB\n",
      "<class 'pandas.core.frame.DataFrame'>\n",
      "RangeIndex: 996 entries, 0 to 995\n",
      "Data columns (total 11 columns):\n",
      " #   Column                     Non-Null Count  Dtype  \n",
      "---  ------                     --------------  -----  \n",
      " 0   Customer                   996 non-null    object \n",
      " 1   ST                         996 non-null    object \n",
      " 2   GENDER                     991 non-null    object \n",
      " 3   Education                  996 non-null    object \n",
      " 4   Customer Lifetime Value    992 non-null    object \n",
      " 5   Income                     996 non-null    int64  \n",
      " 6   Monthly Premium Auto       996 non-null    int64  \n",
      " 7   Number of Open Complaints  996 non-null    object \n",
      " 8   Total Claim Amount         996 non-null    float64\n",
      " 9   Policy Type                996 non-null    object \n",
      " 10  Vehicle Class              996 non-null    object \n",
      "dtypes: float64(1), int64(2), object(8)\n",
      "memory usage: 85.7+ KB\n",
      "<class 'pandas.core.frame.DataFrame'>\n",
      "RangeIndex: 7070 entries, 0 to 7069\n",
      "Data columns (total 11 columns):\n",
      " #   Column                     Non-Null Count  Dtype  \n",
      "---  ------                     --------------  -----  \n",
      " 0   Customer                   7070 non-null   object \n",
      " 1   ST                         7070 non-null   object \n",
      " 2   Customer Lifetime Value    7070 non-null   float64\n",
      " 3   Education                  7070 non-null   object \n",
      " 4   GENDER                     7070 non-null   object \n",
      " 5   Income                     7070 non-null   int64  \n",
      " 6   Monthly Premium Auto       7070 non-null   int64  \n",
      " 7   Number of Open Complaints  7070 non-null   int64  \n",
      " 8   Policy Type                7070 non-null   object \n",
      " 9   Total Claim Amount         7070 non-null   float64\n",
      " 10  Vehicle Class              7070 non-null   object \n",
      "dtypes: float64(2), int64(3), object(6)\n",
      "memory usage: 607.7+ KB\n"
     ]
    }
   ],
   "source": [
    "file1.info()\n",
    "file2.info()\n",
    "rename_file3.info()"
   ]
  },
  {
   "cell_type": "code",
   "execution_count": 11,
   "id": "4ffcc8a9",
   "metadata": {},
   "outputs": [],
   "source": [
    "def aggregate ():\n",
    "    file1 = pd.read_csv('data/file1.csv')\n",
    "    file2 = pd.read_csv('data/file2.csv')\n",
    "    rename_file3\n",
    "    return pd.concat([file1, file2, rename_file3], axis=0)\n"
   ]
  },
  {
   "cell_type": "code",
   "execution_count": 12,
   "id": "234508a4",
   "metadata": {},
   "outputs": [],
   "source": [
    "ca_df = aggregate ()"
   ]
  },
  {
   "cell_type": "code",
   "execution_count": 13,
   "id": "8727a26f",
   "metadata": {
    "scrolled": false
   },
   "outputs": [
    {
     "data": {
      "text/plain": [
       "['Customer',\n",
       " 'ST',\n",
       " 'GENDER',\n",
       " 'Education',\n",
       " 'Customer Lifetime Value',\n",
       " 'Income',\n",
       " 'Monthly Premium Auto',\n",
       " 'Number of Open Complaints',\n",
       " 'Policy Type',\n",
       " 'Vehicle Class',\n",
       " 'Total Claim Amount']"
      ]
     },
     "execution_count": 13,
     "metadata": {},
     "output_type": "execute_result"
    }
   ],
   "source": [
    "list(ca_df.columns)"
   ]
  },
  {
   "cell_type": "code",
   "execution_count": 14,
   "id": "8296d989",
   "metadata": {},
   "outputs": [],
   "source": [
    "def lower_case_column_names(ca_df):\n",
    "    ca_df.columns=[i.lower() for i in ca_df.columns]\n",
    "    return ca_df"
   ]
  },
  {
   "cell_type": "code",
   "execution_count": 15,
   "id": "5ad3c1ab",
   "metadata": {},
   "outputs": [
    {
     "data": {
      "text/html": [
       "<div>\n",
       "<style scoped>\n",
       "    .dataframe tbody tr th:only-of-type {\n",
       "        vertical-align: middle;\n",
       "    }\n",
       "\n",
       "    .dataframe tbody tr th {\n",
       "        vertical-align: top;\n",
       "    }\n",
       "\n",
       "    .dataframe thead th {\n",
       "        text-align: right;\n",
       "    }\n",
       "</style>\n",
       "<table border=\"1\" class=\"dataframe\">\n",
       "  <thead>\n",
       "    <tr style=\"text-align: right;\">\n",
       "      <th></th>\n",
       "      <th>customer</th>\n",
       "      <th>st</th>\n",
       "      <th>gender</th>\n",
       "      <th>education</th>\n",
       "      <th>customer lifetime value</th>\n",
       "      <th>income</th>\n",
       "      <th>monthly premium auto</th>\n",
       "      <th>number of open complaints</th>\n",
       "      <th>policy type</th>\n",
       "      <th>vehicle class</th>\n",
       "      <th>total claim amount</th>\n",
       "    </tr>\n",
       "  </thead>\n",
       "  <tbody>\n",
       "    <tr>\n",
       "      <th>0</th>\n",
       "      <td>RB50392</td>\n",
       "      <td>Washington</td>\n",
       "      <td>NaN</td>\n",
       "      <td>Master</td>\n",
       "      <td>NaN</td>\n",
       "      <td>0.0</td>\n",
       "      <td>1000.0</td>\n",
       "      <td>1/0/00</td>\n",
       "      <td>Personal Auto</td>\n",
       "      <td>Four-Door Car</td>\n",
       "      <td>2.704934</td>\n",
       "    </tr>\n",
       "    <tr>\n",
       "      <th>1</th>\n",
       "      <td>QZ44356</td>\n",
       "      <td>Arizona</td>\n",
       "      <td>F</td>\n",
       "      <td>Bachelor</td>\n",
       "      <td>697953.59%</td>\n",
       "      <td>0.0</td>\n",
       "      <td>94.0</td>\n",
       "      <td>1/0/00</td>\n",
       "      <td>Personal Auto</td>\n",
       "      <td>Four-Door Car</td>\n",
       "      <td>1131.464935</td>\n",
       "    </tr>\n",
       "    <tr>\n",
       "      <th>2</th>\n",
       "      <td>AI49188</td>\n",
       "      <td>Nevada</td>\n",
       "      <td>F</td>\n",
       "      <td>Bachelor</td>\n",
       "      <td>1288743.17%</td>\n",
       "      <td>48767.0</td>\n",
       "      <td>108.0</td>\n",
       "      <td>1/0/00</td>\n",
       "      <td>Personal Auto</td>\n",
       "      <td>Two-Door Car</td>\n",
       "      <td>566.472247</td>\n",
       "    </tr>\n",
       "    <tr>\n",
       "      <th>3</th>\n",
       "      <td>WW63253</td>\n",
       "      <td>California</td>\n",
       "      <td>M</td>\n",
       "      <td>Bachelor</td>\n",
       "      <td>764586.18%</td>\n",
       "      <td>0.0</td>\n",
       "      <td>106.0</td>\n",
       "      <td>1/0/00</td>\n",
       "      <td>Corporate Auto</td>\n",
       "      <td>SUV</td>\n",
       "      <td>529.881344</td>\n",
       "    </tr>\n",
       "    <tr>\n",
       "      <th>4</th>\n",
       "      <td>GA49547</td>\n",
       "      <td>Washington</td>\n",
       "      <td>M</td>\n",
       "      <td>High School or Below</td>\n",
       "      <td>536307.65%</td>\n",
       "      <td>36357.0</td>\n",
       "      <td>68.0</td>\n",
       "      <td>1/0/00</td>\n",
       "      <td>Personal Auto</td>\n",
       "      <td>Four-Door Car</td>\n",
       "      <td>17.269323</td>\n",
       "    </tr>\n",
       "    <tr>\n",
       "      <th>...</th>\n",
       "      <td>...</td>\n",
       "      <td>...</td>\n",
       "      <td>...</td>\n",
       "      <td>...</td>\n",
       "      <td>...</td>\n",
       "      <td>...</td>\n",
       "      <td>...</td>\n",
       "      <td>...</td>\n",
       "      <td>...</td>\n",
       "      <td>...</td>\n",
       "      <td>...</td>\n",
       "    </tr>\n",
       "    <tr>\n",
       "      <th>7065</th>\n",
       "      <td>LA72316</td>\n",
       "      <td>California</td>\n",
       "      <td>M</td>\n",
       "      <td>Bachelor</td>\n",
       "      <td>23405.98798</td>\n",
       "      <td>71941.0</td>\n",
       "      <td>73.0</td>\n",
       "      <td>0</td>\n",
       "      <td>Personal Auto</td>\n",
       "      <td>Four-Door Car</td>\n",
       "      <td>198.234764</td>\n",
       "    </tr>\n",
       "    <tr>\n",
       "      <th>7066</th>\n",
       "      <td>PK87824</td>\n",
       "      <td>California</td>\n",
       "      <td>F</td>\n",
       "      <td>College</td>\n",
       "      <td>3096.511217</td>\n",
       "      <td>21604.0</td>\n",
       "      <td>79.0</td>\n",
       "      <td>0</td>\n",
       "      <td>Corporate Auto</td>\n",
       "      <td>Four-Door Car</td>\n",
       "      <td>379.200000</td>\n",
       "    </tr>\n",
       "    <tr>\n",
       "      <th>7067</th>\n",
       "      <td>TD14365</td>\n",
       "      <td>California</td>\n",
       "      <td>M</td>\n",
       "      <td>Bachelor</td>\n",
       "      <td>8163.890428</td>\n",
       "      <td>0.0</td>\n",
       "      <td>85.0</td>\n",
       "      <td>3</td>\n",
       "      <td>Corporate Auto</td>\n",
       "      <td>Four-Door Car</td>\n",
       "      <td>790.784983</td>\n",
       "    </tr>\n",
       "    <tr>\n",
       "      <th>7068</th>\n",
       "      <td>UP19263</td>\n",
       "      <td>California</td>\n",
       "      <td>M</td>\n",
       "      <td>College</td>\n",
       "      <td>7524.442436</td>\n",
       "      <td>21941.0</td>\n",
       "      <td>96.0</td>\n",
       "      <td>0</td>\n",
       "      <td>Personal Auto</td>\n",
       "      <td>Four-Door Car</td>\n",
       "      <td>691.200000</td>\n",
       "    </tr>\n",
       "    <tr>\n",
       "      <th>7069</th>\n",
       "      <td>Y167826</td>\n",
       "      <td>California</td>\n",
       "      <td>M</td>\n",
       "      <td>College</td>\n",
       "      <td>2611.836866</td>\n",
       "      <td>0.0</td>\n",
       "      <td>77.0</td>\n",
       "      <td>0</td>\n",
       "      <td>Corporate Auto</td>\n",
       "      <td>Two-Door Car</td>\n",
       "      <td>369.600000</td>\n",
       "    </tr>\n",
       "  </tbody>\n",
       "</table>\n",
       "<p>12074 rows × 11 columns</p>\n",
       "</div>"
      ],
      "text/plain": [
       "     customer          st gender             education  \\\n",
       "0     RB50392  Washington    NaN                Master   \n",
       "1     QZ44356     Arizona      F              Bachelor   \n",
       "2     AI49188      Nevada      F              Bachelor   \n",
       "3     WW63253  California      M              Bachelor   \n",
       "4     GA49547  Washington      M  High School or Below   \n",
       "...       ...         ...    ...                   ...   \n",
       "7065  LA72316  California      M              Bachelor   \n",
       "7066  PK87824  California      F               College   \n",
       "7067  TD14365  California      M              Bachelor   \n",
       "7068  UP19263  California      M               College   \n",
       "7069  Y167826  California      M               College   \n",
       "\n",
       "     customer lifetime value   income  monthly premium auto  \\\n",
       "0                        NaN      0.0                1000.0   \n",
       "1                 697953.59%      0.0                  94.0   \n",
       "2                1288743.17%  48767.0                 108.0   \n",
       "3                 764586.18%      0.0                 106.0   \n",
       "4                 536307.65%  36357.0                  68.0   \n",
       "...                      ...      ...                   ...   \n",
       "7065             23405.98798  71941.0                  73.0   \n",
       "7066             3096.511217  21604.0                  79.0   \n",
       "7067             8163.890428      0.0                  85.0   \n",
       "7068             7524.442436  21941.0                  96.0   \n",
       "7069             2611.836866      0.0                  77.0   \n",
       "\n",
       "     number of open complaints     policy type  vehicle class  \\\n",
       "0                       1/0/00   Personal Auto  Four-Door Car   \n",
       "1                       1/0/00   Personal Auto  Four-Door Car   \n",
       "2                       1/0/00   Personal Auto   Two-Door Car   \n",
       "3                       1/0/00  Corporate Auto            SUV   \n",
       "4                       1/0/00   Personal Auto  Four-Door Car   \n",
       "...                        ...             ...            ...   \n",
       "7065                         0   Personal Auto  Four-Door Car   \n",
       "7066                         0  Corporate Auto  Four-Door Car   \n",
       "7067                         3  Corporate Auto  Four-Door Car   \n",
       "7068                         0   Personal Auto  Four-Door Car   \n",
       "7069                         0  Corporate Auto   Two-Door Car   \n",
       "\n",
       "      total claim amount  \n",
       "0               2.704934  \n",
       "1            1131.464935  \n",
       "2             566.472247  \n",
       "3             529.881344  \n",
       "4              17.269323  \n",
       "...                  ...  \n",
       "7065          198.234764  \n",
       "7066          379.200000  \n",
       "7067          790.784983  \n",
       "7068          691.200000  \n",
       "7069          369.600000  \n",
       "\n",
       "[12074 rows x 11 columns]"
      ]
     },
     "execution_count": 15,
     "metadata": {},
     "output_type": "execute_result"
    }
   ],
   "source": [
    "lower_case_column_names(ca_df)"
   ]
  },
  {
   "cell_type": "code",
   "execution_count": 16,
   "id": "2ca69c61",
   "metadata": {},
   "outputs": [],
   "source": [
    "# delete the column customer as it is only a unique identifier for each row of data\n",
    "def drop_columns(ca_df) :\n",
    "    ca_df.drop(columns=['customer'], inplace=True)\n",
    "    return ca_df"
   ]
  },
  {
   "cell_type": "code",
   "execution_count": 17,
   "id": "ed56cc93",
   "metadata": {},
   "outputs": [],
   "source": [
    "ca_df = drop_columns(ca_df)"
   ]
  },
  {
   "cell_type": "code",
   "execution_count": 18,
   "id": "2ce504b6",
   "metadata": {},
   "outputs": [
    {
     "data": {
      "text/html": [
       "<div>\n",
       "<style scoped>\n",
       "    .dataframe tbody tr th:only-of-type {\n",
       "        vertical-align: middle;\n",
       "    }\n",
       "\n",
       "    .dataframe tbody tr th {\n",
       "        vertical-align: top;\n",
       "    }\n",
       "\n",
       "    .dataframe thead th {\n",
       "        text-align: right;\n",
       "    }\n",
       "</style>\n",
       "<table border=\"1\" class=\"dataframe\">\n",
       "  <thead>\n",
       "    <tr style=\"text-align: right;\">\n",
       "      <th></th>\n",
       "      <th>st</th>\n",
       "      <th>gender</th>\n",
       "      <th>education</th>\n",
       "      <th>customer lifetime value</th>\n",
       "      <th>income</th>\n",
       "      <th>monthly premium auto</th>\n",
       "      <th>number of open complaints</th>\n",
       "      <th>policy type</th>\n",
       "      <th>vehicle class</th>\n",
       "      <th>total claim amount</th>\n",
       "    </tr>\n",
       "  </thead>\n",
       "  <tbody>\n",
       "    <tr>\n",
       "      <th>0</th>\n",
       "      <td>Washington</td>\n",
       "      <td>NaN</td>\n",
       "      <td>Master</td>\n",
       "      <td>NaN</td>\n",
       "      <td>0.0</td>\n",
       "      <td>1000.0</td>\n",
       "      <td>1/0/00</td>\n",
       "      <td>Personal Auto</td>\n",
       "      <td>Four-Door Car</td>\n",
       "      <td>2.704934</td>\n",
       "    </tr>\n",
       "    <tr>\n",
       "      <th>1</th>\n",
       "      <td>Arizona</td>\n",
       "      <td>F</td>\n",
       "      <td>Bachelor</td>\n",
       "      <td>697953.59%</td>\n",
       "      <td>0.0</td>\n",
       "      <td>94.0</td>\n",
       "      <td>1/0/00</td>\n",
       "      <td>Personal Auto</td>\n",
       "      <td>Four-Door Car</td>\n",
       "      <td>1131.464935</td>\n",
       "    </tr>\n",
       "    <tr>\n",
       "      <th>2</th>\n",
       "      <td>Nevada</td>\n",
       "      <td>F</td>\n",
       "      <td>Bachelor</td>\n",
       "      <td>1288743.17%</td>\n",
       "      <td>48767.0</td>\n",
       "      <td>108.0</td>\n",
       "      <td>1/0/00</td>\n",
       "      <td>Personal Auto</td>\n",
       "      <td>Two-Door Car</td>\n",
       "      <td>566.472247</td>\n",
       "    </tr>\n",
       "    <tr>\n",
       "      <th>3</th>\n",
       "      <td>California</td>\n",
       "      <td>M</td>\n",
       "      <td>Bachelor</td>\n",
       "      <td>764586.18%</td>\n",
       "      <td>0.0</td>\n",
       "      <td>106.0</td>\n",
       "      <td>1/0/00</td>\n",
       "      <td>Corporate Auto</td>\n",
       "      <td>SUV</td>\n",
       "      <td>529.881344</td>\n",
       "    </tr>\n",
       "    <tr>\n",
       "      <th>4</th>\n",
       "      <td>Washington</td>\n",
       "      <td>M</td>\n",
       "      <td>High School or Below</td>\n",
       "      <td>536307.65%</td>\n",
       "      <td>36357.0</td>\n",
       "      <td>68.0</td>\n",
       "      <td>1/0/00</td>\n",
       "      <td>Personal Auto</td>\n",
       "      <td>Four-Door Car</td>\n",
       "      <td>17.269323</td>\n",
       "    </tr>\n",
       "    <tr>\n",
       "      <th>...</th>\n",
       "      <td>...</td>\n",
       "      <td>...</td>\n",
       "      <td>...</td>\n",
       "      <td>...</td>\n",
       "      <td>...</td>\n",
       "      <td>...</td>\n",
       "      <td>...</td>\n",
       "      <td>...</td>\n",
       "      <td>...</td>\n",
       "      <td>...</td>\n",
       "    </tr>\n",
       "    <tr>\n",
       "      <th>7065</th>\n",
       "      <td>California</td>\n",
       "      <td>M</td>\n",
       "      <td>Bachelor</td>\n",
       "      <td>23405.98798</td>\n",
       "      <td>71941.0</td>\n",
       "      <td>73.0</td>\n",
       "      <td>0</td>\n",
       "      <td>Personal Auto</td>\n",
       "      <td>Four-Door Car</td>\n",
       "      <td>198.234764</td>\n",
       "    </tr>\n",
       "    <tr>\n",
       "      <th>7066</th>\n",
       "      <td>California</td>\n",
       "      <td>F</td>\n",
       "      <td>College</td>\n",
       "      <td>3096.511217</td>\n",
       "      <td>21604.0</td>\n",
       "      <td>79.0</td>\n",
       "      <td>0</td>\n",
       "      <td>Corporate Auto</td>\n",
       "      <td>Four-Door Car</td>\n",
       "      <td>379.200000</td>\n",
       "    </tr>\n",
       "    <tr>\n",
       "      <th>7067</th>\n",
       "      <td>California</td>\n",
       "      <td>M</td>\n",
       "      <td>Bachelor</td>\n",
       "      <td>8163.890428</td>\n",
       "      <td>0.0</td>\n",
       "      <td>85.0</td>\n",
       "      <td>3</td>\n",
       "      <td>Corporate Auto</td>\n",
       "      <td>Four-Door Car</td>\n",
       "      <td>790.784983</td>\n",
       "    </tr>\n",
       "    <tr>\n",
       "      <th>7068</th>\n",
       "      <td>California</td>\n",
       "      <td>M</td>\n",
       "      <td>College</td>\n",
       "      <td>7524.442436</td>\n",
       "      <td>21941.0</td>\n",
       "      <td>96.0</td>\n",
       "      <td>0</td>\n",
       "      <td>Personal Auto</td>\n",
       "      <td>Four-Door Car</td>\n",
       "      <td>691.200000</td>\n",
       "    </tr>\n",
       "    <tr>\n",
       "      <th>7069</th>\n",
       "      <td>California</td>\n",
       "      <td>M</td>\n",
       "      <td>College</td>\n",
       "      <td>2611.836866</td>\n",
       "      <td>0.0</td>\n",
       "      <td>77.0</td>\n",
       "      <td>0</td>\n",
       "      <td>Corporate Auto</td>\n",
       "      <td>Two-Door Car</td>\n",
       "      <td>369.600000</td>\n",
       "    </tr>\n",
       "  </tbody>\n",
       "</table>\n",
       "<p>12074 rows × 10 columns</p>\n",
       "</div>"
      ],
      "text/plain": [
       "              st gender             education customer lifetime value  \\\n",
       "0     Washington    NaN                Master                     NaN   \n",
       "1        Arizona      F              Bachelor              697953.59%   \n",
       "2         Nevada      F              Bachelor             1288743.17%   \n",
       "3     California      M              Bachelor              764586.18%   \n",
       "4     Washington      M  High School or Below              536307.65%   \n",
       "...          ...    ...                   ...                     ...   \n",
       "7065  California      M              Bachelor             23405.98798   \n",
       "7066  California      F               College             3096.511217   \n",
       "7067  California      M              Bachelor             8163.890428   \n",
       "7068  California      M               College             7524.442436   \n",
       "7069  California      M               College             2611.836866   \n",
       "\n",
       "       income  monthly premium auto number of open complaints     policy type  \\\n",
       "0         0.0                1000.0                    1/0/00   Personal Auto   \n",
       "1         0.0                  94.0                    1/0/00   Personal Auto   \n",
       "2     48767.0                 108.0                    1/0/00   Personal Auto   \n",
       "3         0.0                 106.0                    1/0/00  Corporate Auto   \n",
       "4     36357.0                  68.0                    1/0/00   Personal Auto   \n",
       "...       ...                   ...                       ...             ...   \n",
       "7065  71941.0                  73.0                         0   Personal Auto   \n",
       "7066  21604.0                  79.0                         0  Corporate Auto   \n",
       "7067      0.0                  85.0                         3  Corporate Auto   \n",
       "7068  21941.0                  96.0                         0   Personal Auto   \n",
       "7069      0.0                  77.0                         0  Corporate Auto   \n",
       "\n",
       "      vehicle class  total claim amount  \n",
       "0     Four-Door Car            2.704934  \n",
       "1     Four-Door Car         1131.464935  \n",
       "2      Two-Door Car          566.472247  \n",
       "3               SUV          529.881344  \n",
       "4     Four-Door Car           17.269323  \n",
       "...             ...                 ...  \n",
       "7065  Four-Door Car          198.234764  \n",
       "7066  Four-Door Car          379.200000  \n",
       "7067  Four-Door Car          790.784983  \n",
       "7068  Four-Door Car          691.200000  \n",
       "7069   Two-Door Car          369.600000  \n",
       "\n",
       "[12074 rows x 10 columns]"
      ]
     },
     "execution_count": 18,
     "metadata": {},
     "output_type": "execute_result"
    }
   ],
   "source": [
    "ca_df"
   ]
  },
  {
   "cell_type": "code",
   "execution_count": 19,
   "id": "02d366e7",
   "metadata": {},
   "outputs": [],
   "source": [
    "# get rid of weird data in ca_df['number of open complaints']"
   ]
  },
  {
   "cell_type": "code",
   "execution_count": 20,
   "id": "ba48b068",
   "metadata": {},
   "outputs": [
    {
     "data": {
      "text/plain": [
       "array(['1/0/00', '1/2/00', '1/1/00', '1/3/00', '1/5/00', '1/4/00', nan, 0,\n",
       "       2, 3, 1, 5, 4], dtype=object)"
      ]
     },
     "execution_count": 20,
     "metadata": {},
     "output_type": "execute_result"
    }
   ],
   "source": [
    "ca_df['number of open complaints'].unique()"
   ]
  },
  {
   "cell_type": "code",
   "execution_count": 21,
   "id": "c5fc6cad",
   "metadata": {},
   "outputs": [],
   "source": [
    "ca_df[\"number of open complaints\"] = list(map(lambda x:int(x[2]) if isinstance(x, str) else x, ca_df[\"number of open complaints\"]))"
   ]
  },
  {
   "cell_type": "code",
   "execution_count": 22,
   "id": "11110c2a",
   "metadata": {},
   "outputs": [
    {
     "data": {
      "text/plain": [
       "array([ 0.,  2.,  1.,  3.,  5.,  4., nan])"
      ]
     },
     "execution_count": 22,
     "metadata": {},
     "output_type": "execute_result"
    }
   ],
   "source": [
    "ca_df['number of open complaints'].unique()"
   ]
  },
  {
   "cell_type": "code",
   "execution_count": 23,
   "id": "d1b905b9",
   "metadata": {},
   "outputs": [],
   "source": [
    "# get rid of % in ca_df['customer lifetime value']"
   ]
  },
  {
   "cell_type": "code",
   "execution_count": 24,
   "id": "77be98a4",
   "metadata": {},
   "outputs": [
    {
     "data": {
      "text/plain": [
       "st                            object\n",
       "gender                        object\n",
       "education                     object\n",
       "customer lifetime value       object\n",
       "income                       float64\n",
       "monthly premium auto         float64\n",
       "number of open complaints    float64\n",
       "policy type                   object\n",
       "vehicle class                 object\n",
       "total claim amount           float64\n",
       "dtype: object"
      ]
     },
     "execution_count": 24,
     "metadata": {},
     "output_type": "execute_result"
    }
   ],
   "source": [
    "ca_df.dtypes"
   ]
  },
  {
   "cell_type": "code",
   "execution_count": 25,
   "id": "5af0cd90",
   "metadata": {},
   "outputs": [
    {
     "data": {
      "text/plain": [
       "0               nan\n",
       "1        697953.59%\n",
       "2       1288743.17%\n",
       "3        764586.18%\n",
       "4        536307.65%\n",
       "           ...     \n",
       "7065    23405.98798\n",
       "7066    3096.511217\n",
       "7067    8163.890428\n",
       "7068    7524.442436\n",
       "7069    2611.836866\n",
       "Name: customer lifetime value, Length: 12074, dtype: object"
      ]
     },
     "execution_count": 25,
     "metadata": {},
     "output_type": "execute_result"
    }
   ],
   "source": [
    "ca_df['customer lifetime value'].astype(str)"
   ]
  },
  {
   "cell_type": "code",
   "execution_count": 26,
   "id": "14b70889",
   "metadata": {},
   "outputs": [],
   "source": [
    "ca_df['customer lifetime value'] = ca_df['customer lifetime value'].astype(str).str.replace('%', '')"
   ]
  },
  {
   "cell_type": "code",
   "execution_count": 27,
   "id": "e92d0d84",
   "metadata": {},
   "outputs": [
    {
     "data": {
      "text/plain": [
       "array(['nan', '697953.59', '1288743.17', ..., '8163.890428',\n",
       "       '7524.442436', '2611.836866'], dtype=object)"
      ]
     },
     "execution_count": 27,
     "metadata": {},
     "output_type": "execute_result"
    }
   ],
   "source": [
    "ca_df['customer lifetime value'].unique()"
   ]
  },
  {
   "cell_type": "code",
   "execution_count": 28,
   "id": "1bc462fc",
   "metadata": {},
   "outputs": [
    {
     "data": {
      "text/plain": [
       "st                            object\n",
       "gender                        object\n",
       "education                     object\n",
       "customer lifetime value       object\n",
       "income                       float64\n",
       "monthly premium auto         float64\n",
       "number of open complaints    float64\n",
       "policy type                   object\n",
       "vehicle class                 object\n",
       "total claim amount           float64\n",
       "dtype: object"
      ]
     },
     "execution_count": 28,
     "metadata": {},
     "output_type": "execute_result"
    }
   ],
   "source": [
    "#Check the data types of all the columns and \n",
    "#fix the incorrect ones (for ex. customer lifetime value and number of complaints)\n",
    "ca_df.dtypes"
   ]
  },
  {
   "cell_type": "code",
   "execution_count": 29,
   "id": "a5064877",
   "metadata": {},
   "outputs": [],
   "source": [
    "ca_df['customer lifetime value'] =  pd.to_numeric(ca_df['customer lifetime value'], errors='coerce')\n",
    "ca_df['number of open complaints'] =  pd.to_numeric(ca_df['number of open complaints'], errors='coerce')"
   ]
  },
  {
   "cell_type": "code",
   "execution_count": 30,
   "id": "d1ce9953",
   "metadata": {},
   "outputs": [
    {
     "data": {
      "text/plain": [
       "st                            object\n",
       "gender                        object\n",
       "education                     object\n",
       "customer lifetime value      float64\n",
       "income                       float64\n",
       "monthly premium auto         float64\n",
       "number of open complaints    float64\n",
       "policy type                   object\n",
       "vehicle class                 object\n",
       "total claim amount           float64\n",
       "dtype: object"
      ]
     },
     "execution_count": 30,
     "metadata": {},
     "output_type": "execute_result"
    }
   ],
   "source": [
    "ca_df.dtypes"
   ]
  },
  {
   "cell_type": "code",
   "execution_count": 31,
   "id": "c6032517",
   "metadata": {},
   "outputs": [
    {
     "data": {
      "text/plain": [
       "array([nan, 'F', 'M', 'Femal', 'Male', 'female'], dtype=object)"
      ]
     },
     "execution_count": 31,
     "metadata": {},
     "output_type": "execute_result"
    }
   ],
   "source": [
    "#Filter the data in state and gender column to standardize the texts in those columns\n",
    "ca_df['gender'].unique()"
   ]
  },
  {
   "cell_type": "code",
   "execution_count": 32,
   "id": "039f4b25",
   "metadata": {},
   "outputs": [
    {
     "data": {
      "text/plain": [
       "array(['Washington', 'Arizona', 'Nevada', 'California', 'Oregon', 'Cali',\n",
       "       'AZ', 'WA', nan], dtype=object)"
      ]
     },
     "execution_count": 32,
     "metadata": {},
     "output_type": "execute_result"
    }
   ],
   "source": [
    "ca_df['st'].unique()"
   ]
  },
  {
   "cell_type": "code",
   "execution_count": 33,
   "id": "e8eb944b",
   "metadata": {},
   "outputs": [],
   "source": [
    "# list(map(lambda x: \"F\" if (\"[fF]\" in x) else x, ca_df['gender'])) \n",
    "#no working with  float.. why? gender is an object\n",
    "ca_df['gender'] = ca_df['gender'].astype(str)"
   ]
  },
  {
   "cell_type": "code",
   "execution_count": 34,
   "id": "585be825",
   "metadata": {},
   "outputs": [],
   "source": [
    "ca_df['gender'] = list(map(lambda x: \"F\" if (\"emal\" in x) else x, ca_df['gender']))"
   ]
  },
  {
   "cell_type": "code",
   "execution_count": 35,
   "id": "edaabc8f",
   "metadata": {},
   "outputs": [],
   "source": [
    "ca_df['gender'] = list(map(lambda x: \"M\" if (\"Male\" in x) else x, ca_df['gender']))"
   ]
  },
  {
   "cell_type": "code",
   "execution_count": 36,
   "id": "bca6b9f2",
   "metadata": {},
   "outputs": [],
   "source": [
    "ca_df['gender'] = list(map(lambda x: \"other\" if (\"nan\" in x) else x, ca_df['gender']))"
   ]
  },
  {
   "cell_type": "code",
   "execution_count": 37,
   "id": "76540f6f",
   "metadata": {},
   "outputs": [
    {
     "data": {
      "text/plain": [
       "array(['other', 'F', 'M'], dtype=object)"
      ]
     },
     "execution_count": 37,
     "metadata": {},
     "output_type": "execute_result"
    }
   ],
   "source": [
    "ca_df['gender'].unique()"
   ]
  },
  {
   "cell_type": "code",
   "execution_count": 38,
   "id": "d8996fb7",
   "metadata": {},
   "outputs": [
    {
     "data": {
      "text/html": [
       "<div>\n",
       "<style scoped>\n",
       "    .dataframe tbody tr th:only-of-type {\n",
       "        vertical-align: middle;\n",
       "    }\n",
       "\n",
       "    .dataframe tbody tr th {\n",
       "        vertical-align: top;\n",
       "    }\n",
       "\n",
       "    .dataframe thead th {\n",
       "        text-align: right;\n",
       "    }\n",
       "</style>\n",
       "<table border=\"1\" class=\"dataframe\">\n",
       "  <thead>\n",
       "    <tr style=\"text-align: right;\">\n",
       "      <th></th>\n",
       "      <th>st</th>\n",
       "      <th>gender</th>\n",
       "      <th>education</th>\n",
       "      <th>customer lifetime value</th>\n",
       "      <th>income</th>\n",
       "      <th>monthly premium auto</th>\n",
       "      <th>number of open complaints</th>\n",
       "      <th>policy type</th>\n",
       "      <th>vehicle class</th>\n",
       "      <th>total claim amount</th>\n",
       "    </tr>\n",
       "  </thead>\n",
       "  <tbody>\n",
       "    <tr>\n",
       "      <th>0</th>\n",
       "      <td>Washington</td>\n",
       "      <td>other</td>\n",
       "      <td>Master</td>\n",
       "      <td>NaN</td>\n",
       "      <td>0.0</td>\n",
       "      <td>1000.0</td>\n",
       "      <td>0.0</td>\n",
       "      <td>Personal Auto</td>\n",
       "      <td>Four-Door Car</td>\n",
       "      <td>2.704934</td>\n",
       "    </tr>\n",
       "    <tr>\n",
       "      <th>1</th>\n",
       "      <td>Arizona</td>\n",
       "      <td>F</td>\n",
       "      <td>Bachelor</td>\n",
       "      <td>6.979536e+05</td>\n",
       "      <td>0.0</td>\n",
       "      <td>94.0</td>\n",
       "      <td>0.0</td>\n",
       "      <td>Personal Auto</td>\n",
       "      <td>Four-Door Car</td>\n",
       "      <td>1131.464935</td>\n",
       "    </tr>\n",
       "    <tr>\n",
       "      <th>2</th>\n",
       "      <td>Nevada</td>\n",
       "      <td>F</td>\n",
       "      <td>Bachelor</td>\n",
       "      <td>1.288743e+06</td>\n",
       "      <td>48767.0</td>\n",
       "      <td>108.0</td>\n",
       "      <td>0.0</td>\n",
       "      <td>Personal Auto</td>\n",
       "      <td>Two-Door Car</td>\n",
       "      <td>566.472247</td>\n",
       "    </tr>\n",
       "    <tr>\n",
       "      <th>3</th>\n",
       "      <td>California</td>\n",
       "      <td>M</td>\n",
       "      <td>Bachelor</td>\n",
       "      <td>7.645862e+05</td>\n",
       "      <td>0.0</td>\n",
       "      <td>106.0</td>\n",
       "      <td>0.0</td>\n",
       "      <td>Corporate Auto</td>\n",
       "      <td>SUV</td>\n",
       "      <td>529.881344</td>\n",
       "    </tr>\n",
       "    <tr>\n",
       "      <th>4</th>\n",
       "      <td>Washington</td>\n",
       "      <td>M</td>\n",
       "      <td>High School or Below</td>\n",
       "      <td>5.363077e+05</td>\n",
       "      <td>36357.0</td>\n",
       "      <td>68.0</td>\n",
       "      <td>0.0</td>\n",
       "      <td>Personal Auto</td>\n",
       "      <td>Four-Door Car</td>\n",
       "      <td>17.269323</td>\n",
       "    </tr>\n",
       "    <tr>\n",
       "      <th>...</th>\n",
       "      <td>...</td>\n",
       "      <td>...</td>\n",
       "      <td>...</td>\n",
       "      <td>...</td>\n",
       "      <td>...</td>\n",
       "      <td>...</td>\n",
       "      <td>...</td>\n",
       "      <td>...</td>\n",
       "      <td>...</td>\n",
       "      <td>...</td>\n",
       "    </tr>\n",
       "    <tr>\n",
       "      <th>7065</th>\n",
       "      <td>California</td>\n",
       "      <td>M</td>\n",
       "      <td>Bachelor</td>\n",
       "      <td>2.340599e+04</td>\n",
       "      <td>71941.0</td>\n",
       "      <td>73.0</td>\n",
       "      <td>0.0</td>\n",
       "      <td>Personal Auto</td>\n",
       "      <td>Four-Door Car</td>\n",
       "      <td>198.234764</td>\n",
       "    </tr>\n",
       "    <tr>\n",
       "      <th>7066</th>\n",
       "      <td>California</td>\n",
       "      <td>F</td>\n",
       "      <td>College</td>\n",
       "      <td>3.096511e+03</td>\n",
       "      <td>21604.0</td>\n",
       "      <td>79.0</td>\n",
       "      <td>0.0</td>\n",
       "      <td>Corporate Auto</td>\n",
       "      <td>Four-Door Car</td>\n",
       "      <td>379.200000</td>\n",
       "    </tr>\n",
       "    <tr>\n",
       "      <th>7067</th>\n",
       "      <td>California</td>\n",
       "      <td>M</td>\n",
       "      <td>Bachelor</td>\n",
       "      <td>8.163890e+03</td>\n",
       "      <td>0.0</td>\n",
       "      <td>85.0</td>\n",
       "      <td>3.0</td>\n",
       "      <td>Corporate Auto</td>\n",
       "      <td>Four-Door Car</td>\n",
       "      <td>790.784983</td>\n",
       "    </tr>\n",
       "    <tr>\n",
       "      <th>7068</th>\n",
       "      <td>California</td>\n",
       "      <td>M</td>\n",
       "      <td>College</td>\n",
       "      <td>7.524442e+03</td>\n",
       "      <td>21941.0</td>\n",
       "      <td>96.0</td>\n",
       "      <td>0.0</td>\n",
       "      <td>Personal Auto</td>\n",
       "      <td>Four-Door Car</td>\n",
       "      <td>691.200000</td>\n",
       "    </tr>\n",
       "    <tr>\n",
       "      <th>7069</th>\n",
       "      <td>California</td>\n",
       "      <td>M</td>\n",
       "      <td>College</td>\n",
       "      <td>2.611837e+03</td>\n",
       "      <td>0.0</td>\n",
       "      <td>77.0</td>\n",
       "      <td>0.0</td>\n",
       "      <td>Corporate Auto</td>\n",
       "      <td>Two-Door Car</td>\n",
       "      <td>369.600000</td>\n",
       "    </tr>\n",
       "  </tbody>\n",
       "</table>\n",
       "<p>8880 rows × 10 columns</p>\n",
       "</div>"
      ],
      "text/plain": [
       "              st gender             education  customer lifetime value  \\\n",
       "0     Washington  other                Master                      NaN   \n",
       "1        Arizona      F              Bachelor             6.979536e+05   \n",
       "2         Nevada      F              Bachelor             1.288743e+06   \n",
       "3     California      M              Bachelor             7.645862e+05   \n",
       "4     Washington      M  High School or Below             5.363077e+05   \n",
       "...          ...    ...                   ...                      ...   \n",
       "7065  California      M              Bachelor             2.340599e+04   \n",
       "7066  California      F               College             3.096511e+03   \n",
       "7067  California      M              Bachelor             8.163890e+03   \n",
       "7068  California      M               College             7.524442e+03   \n",
       "7069  California      M               College             2.611837e+03   \n",
       "\n",
       "       income  monthly premium auto  number of open complaints  \\\n",
       "0         0.0                1000.0                        0.0   \n",
       "1         0.0                  94.0                        0.0   \n",
       "2     48767.0                 108.0                        0.0   \n",
       "3         0.0                 106.0                        0.0   \n",
       "4     36357.0                  68.0                        0.0   \n",
       "...       ...                   ...                        ...   \n",
       "7065  71941.0                  73.0                        0.0   \n",
       "7066  21604.0                  79.0                        0.0   \n",
       "7067      0.0                  85.0                        3.0   \n",
       "7068  21941.0                  96.0                        0.0   \n",
       "7069      0.0                  77.0                        0.0   \n",
       "\n",
       "         policy type  vehicle class  total claim amount  \n",
       "0      Personal Auto  Four-Door Car            2.704934  \n",
       "1      Personal Auto  Four-Door Car         1131.464935  \n",
       "2      Personal Auto   Two-Door Car          566.472247  \n",
       "3     Corporate Auto            SUV          529.881344  \n",
       "4      Personal Auto  Four-Door Car           17.269323  \n",
       "...              ...            ...                 ...  \n",
       "7065   Personal Auto  Four-Door Car          198.234764  \n",
       "7066  Corporate Auto  Four-Door Car          379.200000  \n",
       "7067  Corporate Auto  Four-Door Car          790.784983  \n",
       "7068   Personal Auto  Four-Door Car          691.200000  \n",
       "7069  Corporate Auto   Two-Door Car          369.600000  \n",
       "\n",
       "[8880 rows x 10 columns]"
      ]
     },
     "execution_count": 38,
     "metadata": {},
     "output_type": "execute_result"
    }
   ],
   "source": [
    "# Removing duplicates\n",
    "ca_df.drop_duplicates()"
   ]
  },
  {
   "cell_type": "code",
   "execution_count": 39,
   "id": "1a6c9a2d",
   "metadata": {},
   "outputs": [
    {
     "data": {
      "text/html": [
       "<div>\n",
       "<style scoped>\n",
       "    .dataframe tbody tr th:only-of-type {\n",
       "        vertical-align: middle;\n",
       "    }\n",
       "\n",
       "    .dataframe tbody tr th {\n",
       "        vertical-align: top;\n",
       "    }\n",
       "\n",
       "    .dataframe thead th {\n",
       "        text-align: right;\n",
       "    }\n",
       "</style>\n",
       "<table border=\"1\" class=\"dataframe\">\n",
       "  <thead>\n",
       "    <tr style=\"text-align: right;\">\n",
       "      <th></th>\n",
       "      <th>st</th>\n",
       "      <th>gender</th>\n",
       "      <th>education</th>\n",
       "      <th>customer lifetime value</th>\n",
       "      <th>income</th>\n",
       "      <th>monthly premium auto</th>\n",
       "      <th>number of open complaints</th>\n",
       "      <th>policy type</th>\n",
       "      <th>vehicle class</th>\n",
       "      <th>total claim amount</th>\n",
       "    </tr>\n",
       "  </thead>\n",
       "  <tbody>\n",
       "    <tr>\n",
       "      <th>0</th>\n",
       "      <td>Washington</td>\n",
       "      <td>other</td>\n",
       "      <td>Master</td>\n",
       "      <td>NaN</td>\n",
       "      <td>0.0</td>\n",
       "      <td>1000.0</td>\n",
       "      <td>0.0</td>\n",
       "      <td>Personal Auto</td>\n",
       "      <td>Four-Door Car</td>\n",
       "      <td>2.704934</td>\n",
       "    </tr>\n",
       "    <tr>\n",
       "      <th>78</th>\n",
       "      <td>Washington</td>\n",
       "      <td>F</td>\n",
       "      <td>Master</td>\n",
       "      <td>NaN</td>\n",
       "      <td>41275.0</td>\n",
       "      <td>96.0</td>\n",
       "      <td>0.0</td>\n",
       "      <td>Personal Auto</td>\n",
       "      <td>Four-Door Car</td>\n",
       "      <td>41.122303</td>\n",
       "    </tr>\n",
       "    <tr>\n",
       "      <th>988</th>\n",
       "      <td>Washington</td>\n",
       "      <td>M</td>\n",
       "      <td>High School or Below</td>\n",
       "      <td>NaN</td>\n",
       "      <td>55561.0</td>\n",
       "      <td>63.0</td>\n",
       "      <td>0.0</td>\n",
       "      <td>Personal Auto</td>\n",
       "      <td>Four-Door Car</td>\n",
       "      <td>227.872071</td>\n",
       "    </tr>\n",
       "    <tr>\n",
       "      <th>1071</th>\n",
       "      <td>NaN</td>\n",
       "      <td>other</td>\n",
       "      <td>NaN</td>\n",
       "      <td>NaN</td>\n",
       "      <td>NaN</td>\n",
       "      <td>NaN</td>\n",
       "      <td>NaN</td>\n",
       "      <td>NaN</td>\n",
       "      <td>NaN</td>\n",
       "      <td>NaN</td>\n",
       "    </tr>\n",
       "    <tr>\n",
       "      <th>1072</th>\n",
       "      <td>NaN</td>\n",
       "      <td>other</td>\n",
       "      <td>NaN</td>\n",
       "      <td>NaN</td>\n",
       "      <td>NaN</td>\n",
       "      <td>NaN</td>\n",
       "      <td>NaN</td>\n",
       "      <td>NaN</td>\n",
       "      <td>NaN</td>\n",
       "      <td>NaN</td>\n",
       "    </tr>\n",
       "    <tr>\n",
       "      <th>...</th>\n",
       "      <td>...</td>\n",
       "      <td>...</td>\n",
       "      <td>...</td>\n",
       "      <td>...</td>\n",
       "      <td>...</td>\n",
       "      <td>...</td>\n",
       "      <td>...</td>\n",
       "      <td>...</td>\n",
       "      <td>...</td>\n",
       "      <td>...</td>\n",
       "    </tr>\n",
       "    <tr>\n",
       "      <th>4007</th>\n",
       "      <td>NaN</td>\n",
       "      <td>other</td>\n",
       "      <td>NaN</td>\n",
       "      <td>NaN</td>\n",
       "      <td>NaN</td>\n",
       "      <td>NaN</td>\n",
       "      <td>NaN</td>\n",
       "      <td>NaN</td>\n",
       "      <td>NaN</td>\n",
       "      <td>NaN</td>\n",
       "    </tr>\n",
       "    <tr>\n",
       "      <th>325</th>\n",
       "      <td>Washington</td>\n",
       "      <td>M</td>\n",
       "      <td>High School or Below</td>\n",
       "      <td>NaN</td>\n",
       "      <td>51878.0</td>\n",
       "      <td>66.0</td>\n",
       "      <td>1.0</td>\n",
       "      <td>Personal Auto</td>\n",
       "      <td>Four-Door Car</td>\n",
       "      <td>316.800000</td>\n",
       "    </tr>\n",
       "    <tr>\n",
       "      <th>372</th>\n",
       "      <td>Washington</td>\n",
       "      <td>other</td>\n",
       "      <td>High School or Below</td>\n",
       "      <td>NaN</td>\n",
       "      <td>36765.0</td>\n",
       "      <td>66.0</td>\n",
       "      <td>1.0</td>\n",
       "      <td>Personal Auto</td>\n",
       "      <td>Four-Door Car</td>\n",
       "      <td>320.849072</td>\n",
       "    </tr>\n",
       "    <tr>\n",
       "      <th>580</th>\n",
       "      <td>Washington</td>\n",
       "      <td>M</td>\n",
       "      <td>Master</td>\n",
       "      <td>NaN</td>\n",
       "      <td>0.0</td>\n",
       "      <td>70.0</td>\n",
       "      <td>0.0</td>\n",
       "      <td>Personal Auto</td>\n",
       "      <td>Four-Door Car</td>\n",
       "      <td>336.000000</td>\n",
       "    </tr>\n",
       "    <tr>\n",
       "      <th>861</th>\n",
       "      <td>Washington</td>\n",
       "      <td>F</td>\n",
       "      <td>Bachelors</td>\n",
       "      <td>NaN</td>\n",
       "      <td>25859.0</td>\n",
       "      <td>74.0</td>\n",
       "      <td>0.0</td>\n",
       "      <td>Special Auto</td>\n",
       "      <td>Four-Door Car</td>\n",
       "      <td>355.200000</td>\n",
       "    </tr>\n",
       "  </tbody>\n",
       "</table>\n",
       "<p>2944 rows × 10 columns</p>\n",
       "</div>"
      ],
      "text/plain": [
       "              st gender             education  customer lifetime value  \\\n",
       "0     Washington  other                Master                      NaN   \n",
       "78    Washington      F                Master                      NaN   \n",
       "988   Washington      M  High School or Below                      NaN   \n",
       "1071         NaN  other                   NaN                      NaN   \n",
       "1072         NaN  other                   NaN                      NaN   \n",
       "...          ...    ...                   ...                      ...   \n",
       "4007         NaN  other                   NaN                      NaN   \n",
       "325   Washington      M  High School or Below                      NaN   \n",
       "372   Washington  other  High School or Below                      NaN   \n",
       "580   Washington      M                Master                      NaN   \n",
       "861   Washington      F             Bachelors                      NaN   \n",
       "\n",
       "       income  monthly premium auto  number of open complaints    policy type  \\\n",
       "0         0.0                1000.0                        0.0  Personal Auto   \n",
       "78    41275.0                  96.0                        0.0  Personal Auto   \n",
       "988   55561.0                  63.0                        0.0  Personal Auto   \n",
       "1071      NaN                   NaN                        NaN            NaN   \n",
       "1072      NaN                   NaN                        NaN            NaN   \n",
       "...       ...                   ...                        ...            ...   \n",
       "4007      NaN                   NaN                        NaN            NaN   \n",
       "325   51878.0                  66.0                        1.0  Personal Auto   \n",
       "372   36765.0                  66.0                        1.0  Personal Auto   \n",
       "580       0.0                  70.0                        0.0  Personal Auto   \n",
       "861   25859.0                  74.0                        0.0   Special Auto   \n",
       "\n",
       "      vehicle class  total claim amount  \n",
       "0     Four-Door Car            2.704934  \n",
       "78    Four-Door Car           41.122303  \n",
       "988   Four-Door Car          227.872071  \n",
       "1071            NaN                 NaN  \n",
       "1072            NaN                 NaN  \n",
       "...             ...                 ...  \n",
       "4007            NaN                 NaN  \n",
       "325   Four-Door Car          316.800000  \n",
       "372   Four-Door Car          320.849072  \n",
       "580   Four-Door Car          336.000000  \n",
       "861   Four-Door Car          355.200000  \n",
       "\n",
       "[2944 rows x 10 columns]"
      ]
     },
     "execution_count": 39,
     "metadata": {},
     "output_type": "execute_result"
    }
   ],
   "source": [
    "# Replacing null values – Replace missing values with means of the column (for numerical columns)\n",
    "ca_df[ca_df['customer lifetime value'].isna()==True]\n",
    "# many nan values!"
   ]
  },
  {
   "cell_type": "code",
   "execution_count": 40,
   "id": "a6b1e5a6",
   "metadata": {},
   "outputs": [],
   "source": [
    "# mean_customer_lifetime_value\n",
    "mean_customer_lifetime_value = round(np.mean(ca_df['customer lifetime value']), 2)"
   ]
  },
  {
   "cell_type": "code",
   "execution_count": 41,
   "id": "1c03e9da",
   "metadata": {},
   "outputs": [],
   "source": [
    "ca_df['customer lifetime value'] = ca_df['customer lifetime value'].fillna(mean_customer_lifetime_value)"
   ]
  },
  {
   "cell_type": "code",
   "execution_count": 42,
   "id": "040e54ff",
   "metadata": {},
   "outputs": [
    {
     "data": {
      "text/plain": [
       "array([ 182196.39    ,  697953.59    , 1288743.17    , ...,\n",
       "          8163.890428,    7524.442436,    2611.836866])"
      ]
     },
     "execution_count": 42,
     "metadata": {},
     "output_type": "execute_result"
    }
   ],
   "source": [
    "ca_df['customer lifetime value'].unique()"
   ]
  },
  {
   "cell_type": "code",
   "execution_count": 43,
   "id": "0eb45b6c",
   "metadata": {},
   "outputs": [],
   "source": [
    "# mean_income\n",
    "mean_income = round(np.mean(ca_df['income']), 2)"
   ]
  },
  {
   "cell_type": "code",
   "execution_count": 44,
   "id": "0cd3f281",
   "metadata": {},
   "outputs": [],
   "source": [
    "ca_df['income'] = ca_df['income'].fillna(mean_income)"
   ]
  },
  {
   "cell_type": "code",
   "execution_count": 45,
   "id": "65384765",
   "metadata": {},
   "outputs": [
    {
     "data": {
      "text/plain": [
       "array([    0., 48767., 36357., ..., 66367., 71941., 21941.])"
      ]
     },
     "execution_count": 45,
     "metadata": {},
     "output_type": "execute_result"
    }
   ],
   "source": [
    "ca_df['income'].unique()"
   ]
  },
  {
   "cell_type": "code",
   "execution_count": 46,
   "id": "ab71e167",
   "metadata": {},
   "outputs": [],
   "source": [
    "# mean_monthly_premium_auto\n",
    "mean_monthly_premium_auto = round(np.mean(ca_df['monthly premium auto']), 2)"
   ]
  },
  {
   "cell_type": "code",
   "execution_count": 47,
   "id": "300f2fbb",
   "metadata": {},
   "outputs": [],
   "source": [
    "ca_df['monthly premium auto'] = ca_df['monthly premium auto'].fillna(mean_monthly_premium_auto)"
   ]
  },
  {
   "cell_type": "code",
   "execution_count": 48,
   "id": "00efb40f",
   "metadata": {},
   "outputs": [
    {
     "data": {
      "text/plain": [
       "array([ 1000.  ,    94.  ,   108.  ,   106.  ,    68.  ,    69.  ,\n",
       "          67.  ,   101.  ,    71.  ,    93.  ,   110.  ,    70.  ,\n",
       "          64.  ,    72.  ,    74.  ,    79.  ,    73.  ,    61.  ,\n",
       "         111.  ,    80.  ,    63.  ,   237.  ,    65.  ,   130.  ,\n",
       "          62.  ,   117.  ,    91.  ,    90.  ,    66.  ,    99.  ,\n",
       "         103.  , 35354.  ,   172.  ,    92.  ,   104.  ,   113.  ,\n",
       "         124.  ,   105.  ,   100.  ,   112.  ,    97.  ,    95.  ,\n",
       "         102.  ,    96.  ,   186.  ,    77.  ,    76.  ,   119.  ,\n",
       "          87.  ,   109.  ,   107.  ,    88.  ,    85.  ,  6464.  ,\n",
       "         133.  ,    86.  ,    78.  ,    89.  ,   192.  ,   118.  ,\n",
       "         140.  ,   127.  ,   126.  ,    82.  ,   115.  ,   217.  ,\n",
       "         114.  ,   138.  ,    81.  ,   255.  ,   150.  ,   123.  ,\n",
       "         116.  ,   190.  ,    98.  ,   159.  ,    84.  ,    83.  ,\n",
       "         152.  ,   136.  ,   245.  ,   135.  ,  1005.  ,   225.  ,\n",
       "         132.  ,   153.  ,   121.  ,   139.  ,   154.  ,   161.  ,\n",
       "         156.  ,   171.  ,   244.  ,   183.  ,   176.  ,   230.  ,\n",
       "         129.  ,   177.  ,   181.  ,   196.  ,   131.  ,   276.  ,\n",
       "         253.  ,   137.  ,   180.  ,   203.  ,   147.  ,   165.  ,\n",
       "         198.  ,   125.  ,   193.  ,   128.  ,   271.  ,   142.  ,\n",
       "       10202.  ,   206.  ,   182.  ,   189.  ,   160.  ,   295.  ,\n",
       "         210.  ,   134.  , 35353.  ,   239.  ,   188.  ,   256.  ,\n",
       "         173.  ,   285.  ,   148.  ,   141.  ,   197.  ,   199.  ,\n",
       "         110.39,   214.  ,   175.  ,   167.  ,   194.  ,   164.  ,\n",
       "         222.  ,   215.  ,   283.  ,   169.  ,   248.  ,   223.  ,\n",
       "         151.  ,   213.  ,   145.  ,   185.  ,   287.  ,   297.  ,\n",
       "        5353.  ,   201.  ,   149.  ,   146.  ,  7575.  ,   235.  ,\n",
       "         268.  ,   211.  ,   187.  ,   168.  ,   122.  ,   143.  ,\n",
       "         155.  ,   166.  ,   212.  ,   249.  ,   240.  ,   191.  ,\n",
       "         195.  ,   216.  ,   144.  ,   179.  ,   232.  ,   158.  ,\n",
       "         207.  ,   184.  ,   238.  ,   229.  ,   220.  ,   178.  ,\n",
       "         204.  ,   281.  ,   170.  ,   234.  ,   218.  ,   275.  ,\n",
       "         209.  ,   261.  ,   157.  ,   205.  ,   228.  ,   242.  ,\n",
       "         284.  ,   231.  ,   208.  ,   296.  ,   202.  ,   162.  ,\n",
       "         274.  ,   219.  ,   247.  ,   290.  ,   226.  ,   163.  ,\n",
       "         298.  ,   266.  ,   254.  ,   252.  ,   174.  ,   286.  ])"
      ]
     },
     "execution_count": 48,
     "metadata": {},
     "output_type": "execute_result"
    }
   ],
   "source": [
    "ca_df['monthly premium auto'].unique()"
   ]
  },
  {
   "cell_type": "code",
   "execution_count": 49,
   "id": "2ce2fea7",
   "metadata": {},
   "outputs": [],
   "source": [
    "#mean_number_of_open_complaints\n",
    "mean_number_of_open_complaints = round(np.mean(ca_df['number of open complaints']), 2)"
   ]
  },
  {
   "cell_type": "code",
   "execution_count": 50,
   "id": "d468072f",
   "metadata": {},
   "outputs": [],
   "source": [
    "ca_df['number of open complaints'] = ca_df['number of open complaints'].fillna(mean_number_of_open_complaints)"
   ]
  },
  {
   "cell_type": "code",
   "execution_count": 51,
   "id": "6551750d",
   "metadata": {},
   "outputs": [
    {
     "data": {
      "text/plain": [
       "array([0.  , 2.  , 1.  , 3.  , 5.  , 4.  , 0.38])"
      ]
     },
     "execution_count": 51,
     "metadata": {},
     "output_type": "execute_result"
    }
   ],
   "source": [
    "ca_df['number of open complaints'].unique()"
   ]
  },
  {
   "cell_type": "code",
   "execution_count": 52,
   "id": "9f557b29",
   "metadata": {},
   "outputs": [],
   "source": [
    "# mean_total_claim_amount\n",
    "mean_total_claim_amount = round(np.mean(ca_df['total claim amount']))"
   ]
  },
  {
   "cell_type": "code",
   "execution_count": 53,
   "id": "18aec043",
   "metadata": {},
   "outputs": [],
   "source": [
    "ca_df['total claim amount'] = ca_df['total claim amount'].fillna(mean_total_claim_amount)"
   ]
  },
  {
   "cell_type": "code",
   "execution_count": 54,
   "id": "cdb1e976",
   "metadata": {},
   "outputs": [
    {
     "data": {
      "text/plain": [
       "array([   2.704934, 1131.464935,  566.472247, ...,  541.282007,\n",
       "        198.234764,  790.784983])"
      ]
     },
     "execution_count": 54,
     "metadata": {},
     "output_type": "execute_result"
    }
   ],
   "source": [
    "ca_df['total claim amount'].unique()"
   ]
  },
  {
   "cell_type": "markdown",
   "id": "9a0d2def",
   "metadata": {},
   "source": [
    "### Activity 2\n",
    "\n",
    "- Bucketing the data - Write a function to replace column \"State\" to different zones. California as West Region, Oregon as North West, and Washington as East, and Arizona and Nevada as Central\n",
    "- Standardizing the data – Use string functions to standardize the text data (lower case)"
   ]
  },
  {
   "cell_type": "code",
   "execution_count": 55,
   "id": "cbf5856d",
   "metadata": {},
   "outputs": [],
   "source": [
    "ca_df['st'] = ca_df['st'].astype(\"str\")"
   ]
  },
  {
   "cell_type": "code",
   "execution_count": 56,
   "id": "4baf1c79",
   "metadata": {},
   "outputs": [
    {
     "data": {
      "text/plain": [
       "0       Washington\n",
       "1          Arizona\n",
       "2           Nevada\n",
       "3       California\n",
       "4       Washington\n",
       "           ...    \n",
       "7065    California\n",
       "7066    California\n",
       "7067    California\n",
       "7068    California\n",
       "7069    California\n",
       "Name: st, Length: 12074, dtype: object"
      ]
     },
     "execution_count": 56,
     "metadata": {},
     "output_type": "execute_result"
    }
   ],
   "source": [
    "ca_df['st']\n",
    "#there are double keys that need to be cleaned"
   ]
  },
  {
   "cell_type": "code",
   "execution_count": 57,
   "id": "1b4fa0b1",
   "metadata": {},
   "outputs": [
    {
     "data": {
      "text/plain": [
       "array(['Washington', 'Arizona', 'Nevada', 'California', 'Oregon', 'Cali',\n",
       "       'WA', 'nan'], dtype=object)"
      ]
     },
     "execution_count": 57,
     "metadata": {},
     "output_type": "execute_result"
    }
   ],
   "source": [
    "ca_df['st'] = list(map(lambda x: \"Arizona\" if (\"AZ\" in x) else x, ca_df['st']))\n",
    "ca_df['st'].unique()"
   ]
  },
  {
   "cell_type": "code",
   "execution_count": 58,
   "id": "39d7f3d0",
   "metadata": {},
   "outputs": [
    {
     "data": {
      "text/plain": [
       "array(['Washington', 'Arizona', 'Nevada', 'California', 'Oregon', 'WA',\n",
       "       'nan'], dtype=object)"
      ]
     },
     "execution_count": 58,
     "metadata": {},
     "output_type": "execute_result"
    }
   ],
   "source": [
    "ca_df['st'] = list(map(lambda x: \"California\" if (\"Cali\" in x) else x, ca_df['st']))\n",
    "ca_df['st'].unique()"
   ]
  },
  {
   "cell_type": "code",
   "execution_count": 59,
   "id": "31c27d41",
   "metadata": {},
   "outputs": [
    {
     "data": {
      "text/plain": [
       "array(['Washington', 'Arizona', 'Nevada', 'California', 'Oregon', 'nan'],\n",
       "      dtype=object)"
      ]
     },
     "execution_count": 59,
     "metadata": {},
     "output_type": "execute_result"
    }
   ],
   "source": [
    "ca_df['st'] = list(map(lambda x: \"Washington\" if (\"WA\" in x) else x, ca_df['st']))\n",
    "ca_df['st'].unique()"
   ]
  },
  {
   "cell_type": "code",
   "execution_count": 60,
   "id": "0ed4668e",
   "metadata": {},
   "outputs": [],
   "source": [
    "ca_df['st'] = ca_df['st'].astype(\"category\")"
   ]
  },
  {
   "cell_type": "code",
   "execution_count": 61,
   "id": "8c0b07ef",
   "metadata": {},
   "outputs": [],
   "source": [
    "state_region_labels = {'California': 'West', 'Oregon': 'North West', 'Washington': 'East', 'Nevada': 'Central', 'Arizona': 'Central'}"
   ]
  },
  {
   "cell_type": "code",
   "execution_count": 62,
   "id": "31580699",
   "metadata": {},
   "outputs": [],
   "source": [
    "ca_df['st'].replace(state_region_labels, inplace = True)"
   ]
  },
  {
   "cell_type": "code",
   "execution_count": 63,
   "id": "12460378",
   "metadata": {},
   "outputs": [
    {
     "data": {
      "text/plain": [
       "0          East\n",
       "1       Central\n",
       "2       Central\n",
       "3          West\n",
       "4          East\n",
       "         ...   \n",
       "7065       West\n",
       "7066       West\n",
       "7067       West\n",
       "7068       West\n",
       "7069       West\n",
       "Name: st, Length: 12074, dtype: object"
      ]
     },
     "execution_count": 63,
     "metadata": {},
     "output_type": "execute_result"
    }
   ],
   "source": [
    "ca_df['st']"
   ]
  },
  {
   "cell_type": "code",
   "execution_count": 64,
   "id": "419cf7c5",
   "metadata": {},
   "outputs": [],
   "source": [
    "#Standardizing the data – Use string functions to standardize the text data (lower case)"
   ]
  },
  {
   "cell_type": "code",
   "execution_count": 65,
   "id": "daf89a71",
   "metadata": {},
   "outputs": [
    {
     "data": {
      "text/plain": [
       "st                            object\n",
       "gender                        object\n",
       "education                     object\n",
       "customer lifetime value      float64\n",
       "income                       float64\n",
       "monthly premium auto         float64\n",
       "number of open complaints    float64\n",
       "policy type                   object\n",
       "vehicle class                 object\n",
       "total claim amount           float64\n",
       "dtype: object"
      ]
     },
     "execution_count": 65,
     "metadata": {},
     "output_type": "execute_result"
    }
   ],
   "source": [
    "ca_df.dtypes"
   ]
  },
  {
   "cell_type": "code",
   "execution_count": 66,
   "id": "e9f1a8fc",
   "metadata": {
    "scrolled": true
   },
   "outputs": [
    {
     "data": {
      "text/plain": [
       "0          east\n",
       "1       central\n",
       "2       central\n",
       "3          west\n",
       "4          east\n",
       "         ...   \n",
       "7065       west\n",
       "7066       west\n",
       "7067       west\n",
       "7068       west\n",
       "7069       west\n",
       "Name: st, Length: 12074, dtype: object"
      ]
     },
     "execution_count": 66,
     "metadata": {},
     "output_type": "execute_result"
    }
   ],
   "source": [
    "ca_df['st'] = ca_df['st'].str.lower()\n",
    "ca_df['st']"
   ]
  },
  {
   "cell_type": "code",
   "execution_count": 67,
   "id": "352d09f0",
   "metadata": {
    "scrolled": true
   },
   "outputs": [
    {
     "data": {
      "text/plain": [
       "0       other\n",
       "1           f\n",
       "2           f\n",
       "3           m\n",
       "4           m\n",
       "        ...  \n",
       "7065        m\n",
       "7066        f\n",
       "7067        m\n",
       "7068        m\n",
       "7069        m\n",
       "Name: gender, Length: 12074, dtype: object"
      ]
     },
     "execution_count": 67,
     "metadata": {},
     "output_type": "execute_result"
    }
   ],
   "source": [
    "ca_df['gender'] = ca_df['gender'].str.lower()\n",
    "ca_df['gender']"
   ]
  },
  {
   "cell_type": "code",
   "execution_count": 68,
   "id": "c7270efc",
   "metadata": {},
   "outputs": [
    {
     "data": {
      "text/plain": [
       "0                     master\n",
       "1                   bachelor\n",
       "2                   bachelor\n",
       "3                   bachelor\n",
       "4       high school or below\n",
       "                ...         \n",
       "7065                bachelor\n",
       "7066                 college\n",
       "7067                bachelor\n",
       "7068                 college\n",
       "7069                 college\n",
       "Name: education, Length: 12074, dtype: object"
      ]
     },
     "execution_count": 68,
     "metadata": {},
     "output_type": "execute_result"
    }
   ],
   "source": [
    "ca_df['education'] = ca_df['education'].str.lower()\n",
    "ca_df['education']"
   ]
  },
  {
   "cell_type": "code",
   "execution_count": 69,
   "id": "b0d24992",
   "metadata": {},
   "outputs": [
    {
     "data": {
      "text/plain": [
       "0        personal auto\n",
       "1        personal auto\n",
       "2        personal auto\n",
       "3       corporate auto\n",
       "4        personal auto\n",
       "             ...      \n",
       "7065     personal auto\n",
       "7066    corporate auto\n",
       "7067    corporate auto\n",
       "7068     personal auto\n",
       "7069    corporate auto\n",
       "Name: policy type, Length: 12074, dtype: object"
      ]
     },
     "execution_count": 69,
     "metadata": {},
     "output_type": "execute_result"
    }
   ],
   "source": [
    "ca_df['policy type'] = ca_df['policy type'].str.lower()\n",
    "ca_df['policy type']"
   ]
  },
  {
   "cell_type": "code",
   "execution_count": 70,
   "id": "d14c4606",
   "metadata": {},
   "outputs": [
    {
     "data": {
      "text/plain": [
       "0       four-door car\n",
       "1       four-door car\n",
       "2        two-door car\n",
       "3                 suv\n",
       "4       four-door car\n",
       "            ...      \n",
       "7065    four-door car\n",
       "7066    four-door car\n",
       "7067    four-door car\n",
       "7068    four-door car\n",
       "7069     two-door car\n",
       "Name: vehicle class, Length: 12074, dtype: object"
      ]
     },
     "execution_count": 70,
     "metadata": {},
     "output_type": "execute_result"
    }
   ],
   "source": [
    "ca_df['vehicle class'] = ca_df['vehicle class'].str.lower()\n",
    "ca_df['vehicle class']"
   ]
  },
  {
   "cell_type": "code",
   "execution_count": 71,
   "id": "0dcae70c",
   "metadata": {},
   "outputs": [],
   "source": [
    "ca_df_category = ca_df.select_dtypes(include= 'object', exclude= 'float64')"
   ]
  },
  {
   "cell_type": "code",
   "execution_count": 72,
   "id": "7ce18ba9",
   "metadata": {},
   "outputs": [
    {
     "data": {
      "text/plain": [
       "st                            object\n",
       "gender                        object\n",
       "education                     object\n",
       "customer lifetime value      float64\n",
       "income                       float64\n",
       "monthly premium auto         float64\n",
       "number of open complaints    float64\n",
       "policy type                   object\n",
       "vehicle class                 object\n",
       "total claim amount           float64\n",
       "dtype: object"
      ]
     },
     "execution_count": 72,
     "metadata": {},
     "output_type": "execute_result"
    }
   ],
   "source": [
    "ca_df.dtypes"
   ]
  },
  {
   "cell_type": "code",
   "execution_count": 73,
   "id": "3618569c",
   "metadata": {},
   "outputs": [
    {
     "data": {
      "text/plain": [
       "pandas.core.frame.DataFrame"
      ]
     },
     "execution_count": 73,
     "metadata": {},
     "output_type": "execute_result"
    }
   ],
   "source": [
    "type(ca_df_category)"
   ]
  },
  {
   "cell_type": "code",
   "execution_count": 74,
   "id": "7400a489",
   "metadata": {},
   "outputs": [
    {
     "data": {
      "text/plain": [
       "st                  0\n",
       "gender              0\n",
       "education        2937\n",
       "policy type      2937\n",
       "vehicle class    2937\n",
       "dtype: int64"
      ]
     },
     "execution_count": 74,
     "metadata": {},
     "output_type": "execute_result"
    }
   ],
   "source": [
    "ca_df_category.isna().sum()"
   ]
  },
  {
   "cell_type": "code",
   "execution_count": 75,
   "id": "7cddeb68",
   "metadata": {},
   "outputs": [
    {
     "data": {
      "text/html": [
       "<div>\n",
       "<style scoped>\n",
       "    .dataframe tbody tr th:only-of-type {\n",
       "        vertical-align: middle;\n",
       "    }\n",
       "\n",
       "    .dataframe tbody tr th {\n",
       "        vertical-align: top;\n",
       "    }\n",
       "\n",
       "    .dataframe thead th {\n",
       "        text-align: right;\n",
       "    }\n",
       "</style>\n",
       "<table border=\"1\" class=\"dataframe\">\n",
       "  <thead>\n",
       "    <tr style=\"text-align: right;\">\n",
       "      <th></th>\n",
       "      <th>st</th>\n",
       "      <th>gender</th>\n",
       "      <th>education</th>\n",
       "      <th>customer lifetime value</th>\n",
       "      <th>income</th>\n",
       "      <th>monthly premium auto</th>\n",
       "      <th>number of open complaints</th>\n",
       "      <th>policy type</th>\n",
       "      <th>vehicle class</th>\n",
       "      <th>total claim amount</th>\n",
       "    </tr>\n",
       "  </thead>\n",
       "  <tbody>\n",
       "    <tr>\n",
       "      <th>0</th>\n",
       "      <td>east</td>\n",
       "      <td>other</td>\n",
       "      <td>master</td>\n",
       "      <td>182196.39</td>\n",
       "      <td>0.0</td>\n",
       "      <td>1000.0</td>\n",
       "      <td>0.0</td>\n",
       "      <td>personal auto</td>\n",
       "      <td>four-door car</td>\n",
       "      <td>2.704934</td>\n",
       "    </tr>\n",
       "    <tr>\n",
       "      <th>1</th>\n",
       "      <td>central</td>\n",
       "      <td>f</td>\n",
       "      <td>bachelor</td>\n",
       "      <td>697953.59</td>\n",
       "      <td>0.0</td>\n",
       "      <td>94.0</td>\n",
       "      <td>0.0</td>\n",
       "      <td>personal auto</td>\n",
       "      <td>four-door car</td>\n",
       "      <td>1131.464935</td>\n",
       "    </tr>\n",
       "    <tr>\n",
       "      <th>2</th>\n",
       "      <td>central</td>\n",
       "      <td>f</td>\n",
       "      <td>bachelor</td>\n",
       "      <td>1288743.17</td>\n",
       "      <td>48767.0</td>\n",
       "      <td>108.0</td>\n",
       "      <td>0.0</td>\n",
       "      <td>personal auto</td>\n",
       "      <td>two-door car</td>\n",
       "      <td>566.472247</td>\n",
       "    </tr>\n",
       "    <tr>\n",
       "      <th>3</th>\n",
       "      <td>west</td>\n",
       "      <td>m</td>\n",
       "      <td>bachelor</td>\n",
       "      <td>764586.18</td>\n",
       "      <td>0.0</td>\n",
       "      <td>106.0</td>\n",
       "      <td>0.0</td>\n",
       "      <td>corporate auto</td>\n",
       "      <td>suv</td>\n",
       "      <td>529.881344</td>\n",
       "    </tr>\n",
       "    <tr>\n",
       "      <th>4</th>\n",
       "      <td>east</td>\n",
       "      <td>m</td>\n",
       "      <td>high school or below</td>\n",
       "      <td>536307.65</td>\n",
       "      <td>36357.0</td>\n",
       "      <td>68.0</td>\n",
       "      <td>0.0</td>\n",
       "      <td>personal auto</td>\n",
       "      <td>four-door car</td>\n",
       "      <td>17.269323</td>\n",
       "    </tr>\n",
       "  </tbody>\n",
       "</table>\n",
       "</div>"
      ],
      "text/plain": [
       "        st gender             education  customer lifetime value   income  \\\n",
       "0     east  other                master                182196.39      0.0   \n",
       "1  central      f              bachelor                697953.59      0.0   \n",
       "2  central      f              bachelor               1288743.17  48767.0   \n",
       "3     west      m              bachelor                764586.18      0.0   \n",
       "4     east      m  high school or below                536307.65  36357.0   \n",
       "\n",
       "   monthly premium auto  number of open complaints     policy type  \\\n",
       "0                1000.0                        0.0   personal auto   \n",
       "1                  94.0                        0.0   personal auto   \n",
       "2                 108.0                        0.0   personal auto   \n",
       "3                 106.0                        0.0  corporate auto   \n",
       "4                  68.0                        0.0   personal auto   \n",
       "\n",
       "   vehicle class  total claim amount  \n",
       "0  four-door car            2.704934  \n",
       "1  four-door car         1131.464935  \n",
       "2   two-door car          566.472247  \n",
       "3            suv          529.881344  \n",
       "4  four-door car           17.269323  "
      ]
     },
     "execution_count": 75,
     "metadata": {},
     "output_type": "execute_result"
    }
   ],
   "source": [
    "ca_df.head()"
   ]
  },
  {
   "cell_type": "markdown",
   "id": "bb263667",
   "metadata": {},
   "source": [
    "### Activity 3\n",
    "\n",
    "- Which columns are numerical?\n",
    "- Which columns are categorical?\n",
    "- Datetime format - Extract the months from the dataset and store in a separate column. Then filter the data to show only the information for the first quarter , ie. January, February and March. Hint: If data from March does not exist, consider only January and February."
   ]
  },
  {
   "cell_type": "code",
   "execution_count": 77,
   "id": "a0621b3e",
   "metadata": {},
   "outputs": [],
   "source": [
    "#pd.to_datetime(ca_df[\"effective to date\"],format=\"%m/%d/%y\")\n",
    "#ca_df['month'] = pd.DatetimeIndex(ca_df['effective to date']).month\n",
    "#print(ca_df['month'])\n",
    "#ca_df.month.value_counts()"
   ]
  }
 ],
 "metadata": {
  "kernelspec": {
   "display_name": "Python 3 (ipykernel)",
   "language": "python",
   "name": "python3"
  },
  "language_info": {
   "codemirror_mode": {
    "name": "ipython",
    "version": 3
   },
   "file_extension": ".py",
   "mimetype": "text/x-python",
   "name": "python",
   "nbconvert_exporter": "python",
   "pygments_lexer": "ipython3",
   "version": "3.9.7"
  },
  "toc": {
   "base_numbering": 1,
   "nav_menu": {},
   "number_sections": true,
   "sideBar": true,
   "skip_h1_title": false,
   "title_cell": "Table of Contents",
   "title_sidebar": "Contents",
   "toc_cell": false,
   "toc_position": {},
   "toc_section_display": true,
   "toc_window_display": false
  }
 },
 "nbformat": 4,
 "nbformat_minor": 5
}
